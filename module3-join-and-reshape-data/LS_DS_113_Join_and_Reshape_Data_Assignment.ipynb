{
  "nbformat": 4,
  "nbformat_minor": 0,
  "metadata": {
    "colab": {
      "name": "LS_DS_113_Join_and_Reshape_Data_Assignment.ipynb",
      "provenance": [],
      "collapsed_sections": [],
      "machine_shape": "hm"
    },
    "kernelspec": {
      "display_name": "Python 3",
      "language": "python",
      "name": "python3"
    }
  },
  "cells": [
    {
      "cell_type": "markdown",
      "metadata": {
        "id": "pmU5YUal1eTZ"
      },
      "source": [
        "_Lambda School Data Science_\n",
        "\n",
        "# Join and Reshape datasets\n",
        "\n",
        "Objectives\n",
        "- concatenate data with pandas\n",
        "- merge data with pandas\n",
        "-  understand tidy data formatting\n",
        "-  melt and pivot data with pandas\n",
        "\n",
        "Links\n",
        "- [Pandas Cheat Sheet](https://github.com/pandas-dev/pandas/blob/master/doc/cheatsheet/Pandas_Cheat_Sheet.pdf)\n",
        "- [Tidy Data](https://en.wikipedia.org/wiki/Tidy_data)\n",
        "  - Combine Data Sets: Standard Joins\n",
        "  - Tidy Data\n",
        "  - Reshaping Data\n",
        "- Python Data Science Handbook\n",
        "  - [Chapter 3.6](https://jakevdp.github.io/PythonDataScienceHandbook/03.06-concat-and-append.html), Combining Datasets: Concat and Append\n",
        "  - [Chapter 3.7](https://jakevdp.github.io/PythonDataScienceHandbook/03.07-merge-and-join.html), Combining Datasets: Merge and Join\n",
        "  - [Chapter 3.8](https://jakevdp.github.io/PythonDataScienceHandbook/03.08-aggregation-and-grouping.html), Aggregation and Grouping\n",
        "  - [Chapter 3.9](https://jakevdp.github.io/PythonDataScienceHandbook/03.09-pivot-tables.html), Pivot Tables\n",
        "  \n",
        "Reference\n",
        "- Pandas Documentation: [Reshaping and Pivot Tables](https://pandas.pydata.org/pandas-docs/stable/reshaping.html)\n",
        "- Modern Pandas, Part 5: [Tidy Data](https://tomaugspurger.github.io/modern-5-tidy.html)"
      ]
    },
    {
      "cell_type": "markdown",
      "metadata": {
        "id": "1rFCdBYk2tkc"
      },
      "source": [
        "#Use the following Instacart data to answer the assignment questions."
      ]
    },
    {
      "cell_type": "code",
      "metadata": {
        "id": "4E3wKrdTChuC"
      },
      "source": [
        "#!wget https://s3.amazonaws.com/instacart-datasets/instacart_online_grocery_shopping_2017_05_01.tar.gz \n",
        "\n",
        "# Make sure we're in the top-level /content directory\n",
        "#\n",
        "# See below for notes on the cd command and why it's %cd instead of !cd\n",
        "%cd /content\n",
        "\n",
        "# Remove everything in the current working directory\n",
        "#\n",
        "# rm is the remove command\n",
        "# -rf specifies the \"recursive\" and \"force\" options to remove all files in \n",
        "# subdirectories without prompting\n",
        "#\n",
        "# THIS IS A POWERFUL COMMAND!\n",
        "#\n",
        "# In this particular case, removing all of the files makes things easier if you\n",
        "# need to re-run these examples by allowing you start with a clean directory\n",
        "# every time.\n",
        "!rm -rf *\n",
        "\n",
        "# wget retrieves files from a remote location\n",
        "!wget https://www.dropbox.com/s/pofcl26lvoj6073/instacart-market-basket-analysis.zip"
      ],
      "execution_count": null,
      "outputs": []
    },
    {
      "cell_type": "code",
      "metadata": {
        "id": "dkxqMNGrDJrM"
      },
      "source": [
        "# Unzip the archive\n",
        "#\n",
        "# Creates a new directory called instacart-market-basket-analysis\n",
        "\n",
        "!unzip instacart-market-basket-analysis.zip"
      ],
      "execution_count": null,
      "outputs": []
    },
    {
      "cell_type": "code",
      "metadata": {
        "id": "qaDdXbQqCnGc"
      },
      "source": [
        "# Change into the newly-unzipped directory\n",
        "#\n",
        "# % sign is required to change to a new directory -- you can't use !cd like\n",
        "# other commands\n",
        "#\n",
        "# Optional technical details:\n",
        "#\n",
        "# % makes the command apply to the **entire notebook environment**, which is\n",
        "# what you need to do to change the working directory\n",
        "#\n",
        "# The ! sign **opens a new shell process** behind the scenes to execute the\n",
        "# command -- this works fine for regular commands like unzip and ls\n",
        "#\n",
        "# Therefore, !cd would apply only to that new shell and wouldn't change the\n",
        "# global notebook environment\n",
        "#\n",
        "# If this makes your heard hurt, don't worry too much about it. We'll talk\n",
        "# more about the shell and operating systems stuff later in the program.\n",
        "\n",
        "%cd instacart-market-basket-analysis"
      ],
      "execution_count": null,
      "outputs": []
    },
    {
      "cell_type": "code",
      "metadata": {
        "id": "eADz6civ204P"
      },
      "source": [
        "# Unzip all .csv.zip files in the directory\n",
        "!unzip \"*.zip\""
      ],
      "execution_count": null,
      "outputs": []
    },
    {
      "cell_type": "code",
      "metadata": {
        "id": "nnEkWO4E2_w2"
      },
      "source": [
        "# List all csv files in the current directory\n",
        "# -l specifies the \"long\" listing format, which includes additional info on each file\n",
        "# -h specifies \"human readable\" file size units\n",
        "!ls -l -h *.csv"
      ],
      "execution_count": null,
      "outputs": []
    },
    {
      "cell_type": "markdown",
      "metadata": {
        "id": "kAMtvSQWPUcj"
      },
      "source": [
        "#Use the follwing information to answer the assignment questions.\n",
        "\n",
        "These are the top 10 most frequently ordered products. How many times was each ordered? \n",
        "\n",
        "1. Banana\n",
        "2. Bag of Organic Bananas\n",
        "3. Organic Strawberries\n",
        "4. Organic Baby Spinach \n",
        "5. Organic Hass Avocado\n",
        "6. Organic Avocado\n",
        "7. Large Lemon \n",
        "8. Strawberries\n",
        "9. Limes \n",
        "10. Organic Whole Milk"
      ]
    },
    {
      "cell_type": "markdown",
      "metadata": {
        "id": "xDyL5XUi4FKq"
      },
      "source": [
        "1) Save the products.csv file as a data frame called product_names.  Print the first 5 rows of product_names."
      ]
    },
    {
      "cell_type": "code",
      "metadata": {
        "id": "sDZ_d8104pH1"
      },
      "source": [
        "### YOUR CODE HERE ###"
      ],
      "execution_count": null,
      "outputs": []
    },
    {
      "cell_type": "markdown",
      "metadata": {
        "id": "nAYozVNF33-t"
      },
      "source": [
        "2) Read in order_products_prior.csv and order_products_train.csv.  Concatenate them into one dataset called order_product_link."
      ]
    },
    {
      "cell_type": "code",
      "metadata": {
        "id": "6o_HZWaU47BH"
      },
      "source": [
        "### YOUR CODE HERE ###"
      ],
      "execution_count": null,
      "outputs": []
    },
    {
      "cell_type": "markdown",
      "metadata": {
        "id": "QsGoQ0rI7FIb"
      },
      "source": [
        "3) Use the code below to identify the top 10 most ordered products. Clearly Instacart users really like avocados..."
      ]
    },
    {
      "cell_type": "code",
      "metadata": {
        "id": "VvwRD6mh7AiE"
      },
      "source": [
        "ten_products = [\"Banana\",\n",
        "\"Bag of Organic Bananas\",\n",
        "\"Organic Strawberries\",\n",
        "\"Organic Baby Spinach\",\n",
        "\"Organic Hass Avocado\",\n",
        "\"Organic Avocado\",\n",
        "\"Large Lemon\",\n",
        "\"Strawberries\",\n",
        "\"Limes\",\n",
        "\"Organic Whole Milk\"]"
      ],
      "execution_count": 1,
      "outputs": []
    },
    {
      "cell_type": "markdown",
      "metadata": {
        "id": "tQehWuPf7Y6N"
      },
      "source": [
        "4) Create a subset of the product_names dataset that includes just the top 10 most ordered products.  Call that dataset product_names_10"
      ]
    },
    {
      "cell_type": "code",
      "metadata": {
        "id": "6ZX0OeGU7gAa"
      },
      "source": [
        "### YOUR CODE HERE ###"
      ],
      "execution_count": null,
      "outputs": []
    },
    {
      "cell_type": "markdown",
      "metadata": {
        "id": "PuIVJyJp8Zje"
      },
      "source": [
        "5) Merge the order_product_link dataset with the product_names_10 dataset and print the top 20 rows.  Call the new dataset product_orders."
      ]
    },
    {
      "cell_type": "code",
      "metadata": {
        "id": "PJPGAWEk7OVS"
      },
      "source": [
        "### YOUR CODE HERE ###"
      ],
      "execution_count": null,
      "outputs": []
    },
    {
      "cell_type": "markdown",
      "metadata": {
        "id": "RBsXg9dZ9OL9"
      },
      "source": [
        "6) Note that every record product_orders dataset is a single instance in which someone ordered one of the top 10 products.  \n",
        "\n",
        "Calcluate the number of times each product was ordered.  What was the most frequently ordered food?"
      ]
    },
    {
      "cell_type": "code",
      "metadata": {
        "id": "9j121LNl9ADc"
      },
      "source": [
        "### YOUR CODE HERE ###"
      ],
      "execution_count": null,
      "outputs": []
    },
    {
      "cell_type": "markdown",
      "metadata": {
        "id": "wKoMvy-D-jxZ"
      },
      "source": [
        "#Now we want to figure out when people are ordering all these bananas.\n"
      ]
    },
    {
      "cell_type": "markdown",
      "metadata": {
        "id": "Yf7Aqs0K-2FM"
      },
      "source": [
        "7) Import orders.csv and name the dataset \"orders\".  Print the top 5 observations in orders.\n",
        "\n"
      ]
    },
    {
      "cell_type": "code",
      "metadata": {
        "id": "wj4r-FYzEAL1"
      },
      "source": [
        "### YOUR CODE HERE ###"
      ],
      "execution_count": null,
      "outputs": []
    },
    {
      "cell_type": "markdown",
      "metadata": {
        "id": "UJLKgUt_AAlW"
      },
      "source": [
        "8) Merge the orders dataset and the product_orders dataset so we can see the time each order of each of the top 10 products was placed."
      ]
    },
    {
      "cell_type": "code",
      "metadata": {
        "id": "lu-21j9cEws6"
      },
      "source": [
        "### YOUR CODE HERE ###"
      ],
      "execution_count": null,
      "outputs": []
    },
    {
      "cell_type": "markdown",
      "metadata": {
        "id": "88iUSPClAl2_"
      },
      "source": [
        "9) Create a subset of order_times that includes only orders of Bananas.  Call that dataset Bananas."
      ]
    },
    {
      "cell_type": "code",
      "metadata": {
        "id": "wqILRrRWoQGI"
      },
      "source": [
        "### YOUR CODE HERE ###"
      ],
      "execution_count": null,
      "outputs": []
    },
    {
      "cell_type": "markdown",
      "metadata": {
        "id": "9CVjG_HgA-UR"
      },
      "source": [
        "10) Run the following code to show a histogram of the times of banana orders (times after noon are written as 13 hours, 14 hours, etc.)"
      ]
    },
    {
      "cell_type": "code",
      "metadata": {
        "id": "0Wjqd0OJA4s2"
      },
      "source": [
        "import matplotlib.pyplot as plt\n",
        "\n",
        "plt.hist(bananas['order_hour_of_day'],bins=24, color='blue')\n",
        "\n",
        "plt.xlabel('Hour of the Day')\n",
        "plt.ylabel('Number of Times Bananas are Ordered')\n",
        "plt.title('Banana Orders by Time of Day')\n",
        "\n",
        "plt.show()"
      ],
      "execution_count": null,
      "outputs": []
    },
    {
      "cell_type": "markdown",
      "metadata": {
        "id": "xP-LnICJBbaN"
      },
      "source": [
        "11) When were bananas most frequently ordered?"
      ]
    },
    {
      "cell_type": "markdown",
      "metadata": {
        "id": "2uxIbDtSBhGs"
      },
      "source": [
        "Answer here: "
      ]
    },
    {
      "cell_type": "markdown",
      "metadata": {
        "id": "uj4qmn_6BqyP"
      },
      "source": [
        "12) Were avocados ordered at a different time a day?  Modify the code below by replacing the ??? to create a histogram of order times of Organic Haas Avocados."
      ]
    },
    {
      "cell_type": "code",
      "metadata": {
        "id": "gj76G-9mAzui"
      },
      "source": [
        "#Calculate mean order times by product\n",
        "\n",
        "Haas_avocado = order_times.loc[order_times['product_name'] == '????????']\n",
        "\n",
        "\n",
        "import matplotlib.pyplot as plt\n",
        "\n",
        "plt.hist(Haas_avocado['order_hour_of_day'],bins=24, color='red')\n",
        "\n",
        "plt.xlabel('Hour of the Day')\n",
        "plt.ylabel('Number of Times ?????????? are Ordered')\n",
        "plt.title('???????????? Orders by Time of Day')\n",
        "\n",
        "plt.show()"
      ],
      "execution_count": null,
      "outputs": []
    },
    {
      "cell_type": "markdown",
      "metadata": {
        "id": "iTIxum7NCyu1"
      },
      "source": [
        "Answer here: "
      ]
    },
    {
      "cell_type": "markdown",
      "metadata": {
        "id": "mh-XJVuyDbRt"
      },
      "source": [
        "# Portfolio Project Milestone\n",
        "\n",
        "Watch the Showcase Project (formerly known as Build Week) kickoff video to get a sense of what you will accomplish over the next few weeks:\n",
        "https://youtu.be/WYi9EXH-9lU"
      ]
    }
  ]
}
